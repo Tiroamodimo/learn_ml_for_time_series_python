{
 "cells": [
  {
   "cell_type": "markdown",
   "metadata": {},
   "source": [
    "<a href=\"https://colab.research.google.com/github/PacktPublishing/Machine-Learning-for-Time-Series-with-Python/blob/master/chapter2/EEG%20Signals.ipynb\" target=\"_parent\\\"><img src=\"https://colab.research.google.com/assets/colab-badge.svg\" alt=\"Open In Colab\"/></a>"
   ]
  },
  {
   "cell_type": "code",
   "execution_count": null,
   "metadata": {},
   "outputs": [],
   "source": [
    "import pandas as pd\n",
    "import matplotlib.pyplot as plt\n",
    "from matplotlib.dates import DateFormatter\n",
    "import seaborn as sns\n",
    "from sklearn.datasets import fetch_openml"
   ]
  },
  {
   "cell_type": "code",
   "execution_count": null,
   "metadata": {},
   "outputs": [],
   "source": [
    "from sklearn.datasets import fetch_openml\n",
    "\n",
    "eeg = fetch_openml(data_id=1471, as_frame=True)\n",
    "# https://www.openml.org/d/1471\n",
    "# the whole measurement spans 117 seconds"
   ]
  },
  {
   "cell_type": "code",
   "execution_count": null,
   "metadata": {},
   "outputs": [],
   "source": [
    "increment = 117 / len(eeg['data'])\n",
    "fs = len(eeg['data']) // 117"
   ]
  },
  {
   "cell_type": "code",
   "execution_count": null,
   "metadata": {},
   "outputs": [],
   "source": [
    "len(eeg['data'])"
   ]
  },
  {
   "cell_type": "code",
   "execution_count": null,
   "metadata": {},
   "outputs": [],
   "source": [
    "import numpy as np\n",
    "index = np.linspace(\n",
    "    start=0,\n",
    "    stop=increment*len(eeg['data']),\n",
    "    num=len(eeg['data'])\n",
    ")\n",
    "\n",
    "ts_index = pd.to_datetime(index, unit='s')\n",
    "v1 = pd.Series(name='V1', data=eeg['data']['V1'].values, index=ts_index)"
   ]
  },
  {
   "cell_type": "code",
   "execution_count": null,
   "metadata": {},
   "outputs": [],
   "source": [
    "slicing = (v1.index >= '1970-01-01 00:00:08') & (v1.index <='1970-01-01 00:01:10.000000000')\n",
    "v1[slicing]"
   ]
  },
  {
   "cell_type": "code",
   "execution_count": null,
   "metadata": {},
   "outputs": [],
   "source": [
    "date_formatter = DateFormatter(\"%S\")\n",
    "ax = v1[slicing].plot(figsize=(12, 6))\n",
    "ax.xaxis.set_major_formatter(date_formatter)\n",
    "plt.ylabel('voltage')\n",
    "plt.xlabel('seconds');"
   ]
  },
  {
   "cell_type": "code",
   "execution_count": null,
   "metadata": {},
   "outputs": [],
   "source": [
    "plt.subplot(311)\n",
    "ax1 = v1[slicing].resample('1s').mean().plot(figsize=(12, 6))\n",
    "ax1.xaxis.set_major_formatter(date_formatter)\n",
    "plt.subplot(312)\n",
    "ax1 = v1[slicing].resample('2s').mean().plot(figsize=(12, 6))\n",
    "ax1.xaxis.set_major_formatter(date_formatter)\n",
    "plt.subplot(313)\n",
    "ax2 = v1[slicing].resample('5s').mean().plot(figsize=(12, 6))\n",
    "ax2.xaxis.set_major_formatter(date_formatter)\n",
    "plt.xlabel('seconds');"
   ]
  },
  {
   "cell_type": "code",
   "execution_count": null,
   "metadata": {},
   "outputs": [],
   "source": [
    "from scipy import signal\n",
    "f, Pxx_den = signal.welch(\n",
    "    v1[slicing].values,\n",
    "    fs,\n",
    "    nperseg=4000,\n",
    "    scaling='spectrum'\n",
    ")"
   ]
  },
  {
   "cell_type": "code",
   "execution_count": null,
   "metadata": {},
   "outputs": [],
   "source": [
    "from scipy import signal\n",
    "f, Pxx_den = signal.welch(\n",
    "    v1[slicing].values,\n",
    "    fs,\n",
    "    nperseg=2048,\n",
    "    scaling='spectrum'\n",
    ")\n",
    "plt.figure(figsize=(12, 6))\n",
    "plt.semilogy(f, Pxx_den)\n",
    "plt.xlabel('frequency [Hz]')\n",
    "plt.ylabel('Power Spectrum');"
   ]
  },
  {
   "cell_type": "code",
   "execution_count": null,
   "metadata": {},
   "outputs": [],
   "source": [
    "# https://datahub.io/core/global-temp\n",
    "\n",
    "import pandas as pd\n",
    "temperatures = pd.read_csv('monthly_csv.csv')\n",
    "temperatures['Date'] = pd.to_datetime(temperatures['Date'])\n",
    "temperatures = temperatures.pivot('Date', 'Source', 'Mean')"
   ]
  },
  {
   "cell_type": "code",
   "execution_count": null,
   "metadata": {},
   "outputs": [],
   "source": [
    "temperatures['GCAG'].index.month"
   ]
  },
  {
   "cell_type": "code",
   "execution_count": null,
   "metadata": {},
   "outputs": [],
   "source": [
    "from numpy import polyfit\n",
    "\n",
    "# fit polynomial: E = \\sum_{j=0}^k |p(x_j) - y_j|^2\n",
    "\n",
    "def fit(X, y, degree=3):\n",
    "    coef = polyfit(X, y, degree)\n",
    "    trendpoly = np.poly1d(coef)\n",
    "    return trendpoly(X)\n",
    "\n",
    "def get_season(s, yearly_periods=4, degree=3):\n",
    "    X = [i%(365/4) for i in range(0, len(s))]\n",
    "    seasonal = fit(X, s.values, degree)\n",
    "    return pd.Series(data=seasonal, index=s.index)\n",
    "\n",
    "def get_trend(s, degree=3):\n",
    "    X = list(range(len(s)))  # (s.index.year - s.index.year.min()).values\n",
    "    trend = fit(X, s.values, degree)\n",
    "    return pd.Series(data=trend, index=s.index)\n",
    "\n",
    "\n",
    "import seaborn as sns\n",
    "\n",
    "plt.figure(figsize=(12, 6))\n",
    "temperatures['trend'] = get_trend(temperatures['GCAG'])\n",
    "temperatures['season'] = get_season(temperatures['GCAG'] - temperatures['trend'])\n",
    "sns.lineplot(data=temperatures[['GCAG', 'season', 'trend']])\n",
    "plt.ylabel('Temperature change');"
   ]
  },
  {
   "cell_type": "code",
   "execution_count": null,
   "metadata": {},
   "outputs": [],
   "source": [
    "temperatures.head()"
   ]
  },
  {
   "cell_type": "code",
   "execution_count": null,
   "metadata": {},
   "outputs": [],
   "source": []
  }
 ],
 "metadata": {
  "kernelspec": {
   "display_name": "Python 3",
   "language": "python",
   "name": "python3"
  },
  "language_info": {
   "codemirror_mode": {
    "name": "ipython",
    "version": 3
   },
   "file_extension": ".py",
   "mimetype": "text/x-python",
   "name": "python",
   "nbconvert_exporter": "python",
   "pygments_lexer": "ipython3",
   "version": "3.8.8"
  }
 },
 "nbformat": 4,
 "nbformat_minor": 4
}
